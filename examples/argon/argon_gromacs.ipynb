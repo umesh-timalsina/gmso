{
 "cells": [
  {
   "cell_type": "code",
   "execution_count": null,
   "metadata": {},
   "outputs": [],
   "source": [
    "!conda install --file env.txt --yes"
   ]
  },
  {
   "cell_type": "markdown",
   "metadata": {},
   "source": [
    "This example requires GROMACS. You can install it from source or conda via `conda install -c bioconda gromacs`.\n",
    "You also need to `pip install -e` the topology or GMSO package after February 14, 2020, when PR #121 was merged."
   ]
  },
  {
   "cell_type": "code",
   "execution_count": null,
   "metadata": {},
   "outputs": [],
   "source": [
    "import warnings\n",
    "warnings.filterwarnings('ignore')\n",
    "\n",
    "import mbuild as mb\n",
    "import gmso\n",
    "from gmso.external.convert_mbuild import from_mbuild\n",
    "from gmso.formats.gro import write_gro\n",
    "from gmso.formats.top import write_top"
   ]
  },
  {
   "cell_type": "code",
   "execution_count": null,
   "metadata": {},
   "outputs": [],
   "source": [
    "# Generate a small box of Argon atoms using mBuild\n",
    "\n",
    "ar = mb.Compound(name='Ar')\n",
    "\n",
    "# (1.3954 g/cm^3 / 39.948 amu) * (3 nm) ^3\n",
    "packed_system = mb.fill_box(\n",
    "    compound=ar,\n",
    "    n_compounds=329,\n",
    "    box=mb.Box([2.5, 2.5, 2.5]),\n",
    ")\n",
    "\n",
    "packed_system.visualize()"
   ]
  },
  {
   "cell_type": "code",
   "execution_count": null,
   "metadata": {},
   "outputs": [],
   "source": [
    "!cat ar.xml"
   ]
  },
  {
   "cell_type": "code",
   "execution_count": null,
   "metadata": {},
   "outputs": [],
   "source": [
    "# Convert system to a backend object\n",
    "top = from_mbuild(packed_system)\n",
    "\n",
    "# Load force field from XML\n",
    "ff = gmso.ForceField('ar.xml')\n",
    "ar_type = ff.atom_types['Ar']\n",
    "\n",
    "# Manually set types, bypassing foyer or any atomtyping engine\n",
    "for site in top.sites:\n",
    "    site.atom_type = ar_type\n",
    "\n",
    "top.update_topology()\n",
    "\n",
    "# Save files to disk\n",
    "write_top(top, 'ar.top')\n",
    "write_gro(top, 'ar.gro')"
   ]
  },
  {
   "cell_type": "markdown",
   "metadata": {},
   "source": [
    "Next, we run the simulations (energy minimizaiton and then NVE MD) using GROMACS"
   ]
  },
  {
   "cell_type": "code",
   "execution_count": null,
   "metadata": {},
   "outputs": [],
   "source": [
    "!gmx grompp -f em.mdp -c ar.gro -p ar.top -maxwarn 2 -o em.tpr\n",
    "!gmx mdrun -v -deffnm em"
   ]
  },
  {
   "cell_type": "code",
   "execution_count": null,
   "metadata": {},
   "outputs": [],
   "source": [
    "!gmx grompp -f nve.mdp -c em.gro -p ar.top -maxwarn 1 -o nve.tpr\n",
    "!gmx mdrun -v -deffnm nve"
   ]
  },
  {
   "cell_type": "markdown",
   "metadata": {},
   "source": [
    "Finally we can use `panedr` to do some quick checks of the properties of the system"
   ]
  },
  {
   "cell_type": "code",
   "execution_count": null,
   "metadata": {},
   "outputs": [],
   "source": [
    "import panedr\n",
    "import matplotlib.pyplot as plt"
   ]
  },
  {
   "cell_type": "code",
   "execution_count": null,
   "metadata": {
    "scrolled": true
   },
   "outputs": [],
   "source": [
    "df = panedr.edr_to_df('nve.edr')\n",
    "df.describe()"
   ]
  },
  {
   "cell_type": "code",
   "execution_count": null,
   "metadata": {},
   "outputs": [],
   "source": [
    "plt.plot(df['Time'], df['Potential'])"
   ]
  },
  {
   "cell_type": "code",
   "execution_count": null,
   "metadata": {},
   "outputs": [],
   "source": [
    "plt.plot(df['Time'], df['Temperature'])"
   ]
  }
 ],
 "metadata": {
  "kernelspec": {
   "display_name": "Python 3",
   "language": "python",
   "name": "python3"
  },
  "language_info": {
   "codemirror_mode": {
    "name": "ipython",
    "version": 3
   },
   "file_extension": ".py",
   "mimetype": "text/x-python",
   "name": "python",
   "nbconvert_exporter": "python",
   "pygments_lexer": "ipython3",
   "version": "3.7.6"
  }
 },
 "nbformat": 4,
 "nbformat_minor": 4
}
